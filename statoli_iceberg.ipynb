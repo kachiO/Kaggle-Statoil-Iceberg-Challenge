{
 "cells": [
  {
   "cell_type": "markdown",
   "metadata": {},
   "source": [
    "Originally from https://www.kaggle.com/knowledgegrappler/a-keras-prototype-0-21174-on-pl"
   ]
  },
  {
   "cell_type": "code",
   "execution_count": 224,
   "metadata": {},
   "outputs": [],
   "source": [
    "import numpy as np\n",
    "np.random.seed(656)\n",
    "import os\n",
    "import keras\n",
    "import pandas as pd\n",
    "from sklearn.model_selection import train_test_split\n",
    "from subprocess import check_output\n",
    "from matplotlib import pyplot\n",
    "from keras.preprocessing.image import ImageDataGenerator\n",
    "from keras.models import Sequential\n",
    "from keras.layers import Conv2D, MaxPooling2D, Dense, Dropout, Input, Flatten\n",
    "from keras.layers import GlobalMaxPooling2D, merge, BatchNormalization, Permute\n",
    "from keras.models import Model\n",
    "from keras.optimizers import Adam\n",
    "from keras.callbacks import ModelCheckpoint, Callback, EarlyStopping"
   ]
  },
  {
   "cell_type": "code",
   "execution_count": 33,
   "metadata": {},
   "outputs": [],
   "source": [
    "#Load data\n",
    "train = pd.read_json(\"/home/odenigborig/Data/kaggle/statoli_iceberg/data/processed/train.json\")\n",
    "test = pd.read_json(\"/home/odenigborig/Data/kaggle/statoli_iceberg/data/processed/test.json\")"
   ]
  },
  {
   "cell_type": "code",
   "execution_count": 34,
   "metadata": {},
   "outputs": [],
   "source": [
    "#replace na with zeros in inc_angle (incline) columne\n",
    "train.inc_angle = train.inc_angle.replace('na', 0) \n",
    "train.inc_angle = train.inc_angle.astype(float).fillna(0.0)\n",
    "\n",
    "test.inc_angle = test.inc_angle.replace('na', 0) \n",
    "test.inc_angle = test.inc_angle.astype(float).fillna(0.0)"
   ]
  },
  {
   "cell_type": "code",
   "execution_count": 35,
   "metadata": {},
   "outputs": [],
   "source": [
    "#Prepare training data\n",
    "x_band1 = np.array([np.array(band).astype(np.float32).reshape(75,75) for band in train[\"band_1\"]])\n",
    "x_band2 = np.array([np.array(band).astype(np.float32).reshape(75,75) for band in train[\"band_2\"]])\n",
    "X_train = np.concatenate([x_band1[:, :, :, np.newaxis],\n",
    "                          x_band2[:, :, :, np.newaxis],\n",
    "                          ((x_band1 + x_band2)/2)[:,:,:, np.newaxis]], axis=-1)\n",
    "X_angle_train = np.array(train.inc_angle)\n",
    "y_train = np.array(train[\"is_iceberg\"])\n",
    "\n",
    "#Prepare test data\n",
    "x_band1 = np.array([np.array(band).astype(np.float32).reshape(75,75) for band in test[\"band_1\"]])\n",
    "x_band2 = np.array([np.array(band).astype(np.float32).reshape(75,75) for band in test[\"band_2\"]])\n",
    "X_test = np.concatenate([x_band1[:, :, :, np.newaxis],\n",
    "                          x_band2[:, :, :, np.newaxis],\n",
    "                          ((x_band1 + x_band2)/2)[:,:,:, np.newaxis]], axis=-1)\n",
    "X_angle_test = np.array(test.inc_angle)"
   ]
  },
  {
   "cell_type": "code",
   "execution_count": 110,
   "metadata": {},
   "outputs": [
    {
     "data": {
      "text/plain": [
       "(1203, 75, 75, 3)"
      ]
     },
     "execution_count": 110,
     "metadata": {},
     "output_type": "execute_result"
    }
   ],
   "source": [
    "X_train.shape"
   ]
  },
  {
   "cell_type": "code",
   "execution_count": 36,
   "metadata": {},
   "outputs": [],
   "source": [
    "# Prepare validation set\n",
    "X_train, X_valid, X_angle_train, X_angle_valid, y_train, y_valid = train_test_split(X_train, \n",
    "            X_angle_train,y_train, random_state=123, train_size=0.75)"
   ]
  },
  {
   "cell_type": "code",
   "execution_count": 228,
   "metadata": {
    "collapsed": true
   },
   "outputs": [],
   "source": [
    "#functions\n",
    "\n",
    "def get_callbacks(filepath, patience=2):\n",
    "    #callback to save model after each epoch\n",
    "    es = EarlyStopping('val_loss', patience=patience, mode=\"min\")\n",
    "    msave = ModelCheckpoint(filepath, save_best_only=True)\n",
    "    return [es, msave]\n",
    "\n",
    "def get_model():\n",
    "    bn_model = 0\n",
    "    p_activation = \"elu\"\n",
    "    \n",
    "    input_1_o = Input(shape=(75,75,3), name=\"input_X_1\")\n",
    "    input_2_o = Input(shape=[1], name=\"input_angle\")\n",
    "    \n",
    "    input_1 = Permute([3,1,2])(input_1_o)\n",
    "    input_1 = BatchNormalization(momentum=bn_model)(input_1)\n",
    "    input_2 = BatchNormalization(momentum=bn_model)(input_2_o)\n",
    "    \n",
    "    img_1 = Conv2D(16, 3, 3, activation=p_activation, name='conv_1_1')(input_1)\n",
    "    img_1 = Conv2D(16, 3, 3, activation=p_activation, name='conv_1_2')(input_1)\n",
    "    img_1 = MaxPooling2D((2,2), name='max_pool_1')(img_1)\n",
    "    img_1 = Dropout(0.2, name='dropout_1')(img_1)\n",
    "\n",
    "    img_1 = Conv2D(32, 3, 3, activation=p_activation, name='conv_2_1')(img_1)\n",
    "    img_1 = Conv2D(32, 3, 3, activation=p_activation, name='conv_2_2')(img_1)\n",
    "    img_1 = MaxPooling2D((2,2), name='max_pool_2')(img_1)\n",
    "    img_1 = Dropout(0.2, name='dropout_2')(img_1)\n",
    "    \n",
    "    img_1 = Conv2D(64, 3, 3, activation=p_activation, name='conv_3_1')(img_1)\n",
    "    img_1 = Conv2D(64, 3, 3, activation=p_activation, name='conv_3_2')(img_1)\n",
    "    img_1 = MaxPooling2D((2,2), name='max_pool_3')(img_1)\n",
    "    img_1 = Dropout(0.2, name='dropout_3')(img_1)\n",
    "    \n",
    "    img_1 = Conv2D(128, 3, 3, activation=p_activation, name='conv_4_1')(img_1)\n",
    "    img_1 = MaxPooling2D((2,2), name='max_pool_4')(img_1)\n",
    "    img_1 = Dropout(0.2, name='dropout_4')(img_1)\n",
    "    img_1 = GlobalMaxPooling2D()(img_1)\n",
    "    \n",
    "    img_2 = Conv2D(128, 3, 3, activation=p_activation)(input_1)\n",
    "    img_2 = MaxPooling2D((2,2))(img_2)\n",
    "    img_2 = Dropout(0.2)(img_2)\n",
    "    img_2 = GlobalMaxPooling2D()(img_2)\n",
    "    \n",
    "    #use lower case merge for concatenation of TensorVariables, uppercase Merge is for layers\n",
    "    img_concat = merge([img_1, img_2,input_2], mode='concat',concat_axis=1)\n",
    "    \n",
    "    dense_input = BatchNormalization(momentum=bn_model)(Dense(256, activation=p_activation)(img_concat))\n",
    "    dense_layer = Dropout(0.5)(dense_input)\n",
    "    dense_layer = BatchNormalization(momentum=bn_model)(Dense(64, activation=p_activation)(dense_layer))\n",
    "    dense_layer = Dropout(0.5)(dense_layer)\n",
    "    output = Dense(1, activation=\"sigmoid\")(dense_layer)\n",
    "    \n",
    "    model = Model([input_1_o, input_2_o], output)\n",
    "    optimizer = Adam(lr=0.0001, beta_1=0.9, beta_2=0.999, epsilon=1e-08, decay=0.0)\n",
    "    model.compile(loss=\"binary_crossentropy\", optimizer=optimizer, metrics=[\"accuracy\"])\n",
    "\n",
    "    return model\n",
    "\n"
   ]
  },
  {
   "cell_type": "code",
   "execution_count": 232,
   "metadata": {
    "collapsed": true
   },
   "outputs": [],
   "source": [
    "model = get_model()\n",
    "model.summary()"
   ]
  },
  {
   "cell_type": "code",
   "execution_count": 226,
   "metadata": {
    "collapsed": true
   },
   "outputs": [],
   "source": [
    "path = os.getcwd()\n",
    "model_path=path + 'models/'\n",
    "if not os.path.exists(model_path):\n",
    "    os.mkdir(model_path)"
   ]
  },
  {
   "cell_type": "code",
   "execution_count": 233,
   "metadata": {},
   "outputs": [
    {
     "name": "stdout",
     "output_type": "stream",
     "text": [
      "Train on 1203 samples, validate on 401 samples\n",
      "Epoch 1/25\n",
      "1203/1203 [==============================] - 2s - loss: 0.8072 - acc: 0.6342 - val_loss: 0.6604 - val_acc: 0.7157\n",
      "Epoch 2/25\n",
      "1203/1203 [==============================] - 2s - loss: 0.7032 - acc: 0.6783 - val_loss: 0.5975 - val_acc: 0.7332\n",
      "Epoch 3/25\n",
      "1203/1203 [==============================] - 2s - loss: 0.6868 - acc: 0.6733 - val_loss: 0.5628 - val_acc: 0.7282\n",
      "Epoch 4/25\n",
      "1203/1203 [==============================] - 2s - loss: 0.6347 - acc: 0.7016 - val_loss: 0.7041 - val_acc: 0.7232\n",
      "Epoch 5/25\n",
      "1203/1203 [==============================] - 2s - loss: 0.6419 - acc: 0.7265 - val_loss: 0.5949 - val_acc: 0.7382\n",
      "Epoch 6/25\n",
      "1203/1203 [==============================] - 2s - loss: 0.6029 - acc: 0.7249 - val_loss: 0.5318 - val_acc: 0.7431\n",
      "Epoch 7/25\n",
      "1203/1203 [==============================] - 2s - loss: 0.6140 - acc: 0.7165 - val_loss: 0.8108 - val_acc: 0.6908\n",
      "Epoch 8/25\n",
      "1203/1203 [==============================] - 2s - loss: 0.5419 - acc: 0.7539 - val_loss: 0.5343 - val_acc: 0.7581\n",
      "Epoch 9/25\n",
      "1203/1203 [==============================] - 2s - loss: 0.5840 - acc: 0.7539 - val_loss: 0.5287 - val_acc: 0.7556\n",
      "Epoch 10/25\n",
      "1203/1203 [==============================] - 2s - loss: 0.5400 - acc: 0.7548 - val_loss: 0.5082 - val_acc: 0.7706\n",
      "Epoch 11/25\n",
      "1203/1203 [==============================] - 2s - loss: 0.5182 - acc: 0.7722 - val_loss: 0.5357 - val_acc: 0.7731\n",
      "Epoch 12/25\n",
      "1203/1203 [==============================] - 2s - loss: 0.4997 - acc: 0.7781 - val_loss: 0.6449 - val_acc: 0.7481\n",
      "Epoch 13/25\n",
      "1203/1203 [==============================] - 2s - loss: 0.4705 - acc: 0.7963 - val_loss: 0.4811 - val_acc: 0.7855\n",
      "Epoch 14/25\n",
      "1203/1203 [==============================] - 2s - loss: 0.4949 - acc: 0.7822 - val_loss: 0.5318 - val_acc: 0.7706\n",
      "Epoch 15/25\n",
      "1203/1203 [==============================] - 2s - loss: 0.4464 - acc: 0.8022 - val_loss: 0.5722 - val_acc: 0.7606\n",
      "Epoch 16/25\n",
      "1203/1203 [==============================] - 2s - loss: 0.4823 - acc: 0.8047 - val_loss: 0.7554 - val_acc: 0.7307\n",
      "Epoch 17/25\n",
      "1203/1203 [==============================] - 2s - loss: 0.4241 - acc: 0.8121 - val_loss: 0.7923 - val_acc: 0.7107\n",
      "Epoch 18/25\n",
      "1203/1203 [==============================] - 2s - loss: 0.4066 - acc: 0.8096 - val_loss: 0.5958 - val_acc: 0.7606\n",
      "Epoch 19/25\n",
      "1203/1203 [==============================] - 2s - loss: 0.4324 - acc: 0.8047 - val_loss: 0.6466 - val_acc: 0.7282\n"
     ]
    },
    {
     "data": {
      "text/plain": [
       "<keras.callbacks.History at 0x7f87c224fcd0>"
      ]
     },
     "execution_count": 233,
     "metadata": {},
     "output_type": "execute_result"
    }
   ],
   "source": [
    "file_path = model_path + \".model_weights.hdf5\"\n",
    "callbacks = get_callbacks(filepath=file_path, patience=5)\n",
    "\n",
    "model.fit([X_train, X_angle_train], y_train, nb_epoch=25, \n",
    "          validation_data=([X_valid, X_angle_valid], y_valid), \n",
    "          batch_size=64, callbacks = callbacks)"
   ]
  },
  {
   "cell_type": "code",
   "execution_count": 235,
   "metadata": {},
   "outputs": [
    {
     "name": "stdout",
     "output_type": "stream",
     "text": [
      "Train evaluate:\n",
      "1200/1203 [============================>.] - ETA: 0s[0.45663800468964072, 0.78802993831690016]\n",
      "###########################\n",
      "Valid evaluate:\n",
      "400/401 [============================>.] - ETA: 0s[0.48111852572445857, 0.78553615603363725]\n"
     ]
    }
   ],
   "source": [
    "model.load_weights(filepath=file_path)\n",
    "\n",
    "print(\"Train evaluate:\")\n",
    "print(model.evaluate([X_train, X_angle_train], \n",
    "                     y_train, verbose=1, batch_size=200))\n",
    "print(\"###########################\")\n",
    "print(\"Valid evaluate:\")\n",
    "print(model.evaluate([X_valid, X_angle_valid], \n",
    "                     y_valid, verbose=1, batch_size=200))"
   ]
  },
  {
   "cell_type": "code",
   "execution_count": 236,
   "metadata": {},
   "outputs": [
    {
     "name": "stdout",
     "output_type": "stream",
     "text": [
      "8400/8424 [============================>.] - ETA: 0s"
     ]
    }
   ],
   "source": [
    "prediction = model.predict([X_test, X_angle_test], verbose=1, batch_size=200)"
   ]
  },
  {
   "cell_type": "code",
   "execution_count": 187,
   "metadata": {
    "scrolled": true
   },
   "outputs": [
    {
     "data": {
      "text/html": [
       "<div>\n",
       "<style>\n",
       "    .dataframe thead tr:only-child th {\n",
       "        text-align: right;\n",
       "    }\n",
       "\n",
       "    .dataframe thead th {\n",
       "        text-align: left;\n",
       "    }\n",
       "\n",
       "    .dataframe tbody tr th {\n",
       "        vertical-align: top;\n",
       "    }\n",
       "</style>\n",
       "<table border=\"1\" class=\"dataframe\">\n",
       "  <thead>\n",
       "    <tr style=\"text-align: right;\">\n",
       "      <th></th>\n",
       "      <th>id</th>\n",
       "      <th>is_iceberg</th>\n",
       "    </tr>\n",
       "  </thead>\n",
       "  <tbody>\n",
       "    <tr>\n",
       "      <th>0</th>\n",
       "      <td>5941774d</td>\n",
       "      <td>0.004060</td>\n",
       "    </tr>\n",
       "    <tr>\n",
       "      <th>1</th>\n",
       "      <td>4023181e</td>\n",
       "      <td>0.025510</td>\n",
       "    </tr>\n",
       "    <tr>\n",
       "      <th>2</th>\n",
       "      <td>b20200e4</td>\n",
       "      <td>0.000046</td>\n",
       "    </tr>\n",
       "    <tr>\n",
       "      <th>3</th>\n",
       "      <td>e7f018bb</td>\n",
       "      <td>0.987340</td>\n",
       "    </tr>\n",
       "    <tr>\n",
       "      <th>4</th>\n",
       "      <td>4371c8c3</td>\n",
       "      <td>0.101262</td>\n",
       "    </tr>\n",
       "    <tr>\n",
       "      <th>5</th>\n",
       "      <td>a8d9b1fd</td>\n",
       "      <td>0.546288</td>\n",
       "    </tr>\n",
       "    <tr>\n",
       "      <th>6</th>\n",
       "      <td>29e7727e</td>\n",
       "      <td>0.003137</td>\n",
       "    </tr>\n",
       "    <tr>\n",
       "      <th>7</th>\n",
       "      <td>92a51ffb</td>\n",
       "      <td>0.999269</td>\n",
       "    </tr>\n",
       "    <tr>\n",
       "      <th>8</th>\n",
       "      <td>c769ac97</td>\n",
       "      <td>0.030284</td>\n",
       "    </tr>\n",
       "    <tr>\n",
       "      <th>9</th>\n",
       "      <td>aee0547d</td>\n",
       "      <td>0.007589</td>\n",
       "    </tr>\n",
       "  </tbody>\n",
       "</table>\n",
       "</div>"
      ],
      "text/plain": [
       "         id  is_iceberg\n",
       "0  5941774d    0.004060\n",
       "1  4023181e    0.025510\n",
       "2  b20200e4    0.000046\n",
       "3  e7f018bb    0.987340\n",
       "4  4371c8c3    0.101262\n",
       "5  a8d9b1fd    0.546288\n",
       "6  29e7727e    0.003137\n",
       "7  92a51ffb    0.999269\n",
       "8  c769ac97    0.030284\n",
       "9  aee0547d    0.007589"
      ]
     },
     "execution_count": 187,
     "metadata": {},
     "output_type": "execute_result"
    }
   ],
   "source": [
    "submission = pd.DataFrame({'id': test[\"id\"], 'is_iceberg': prediction.reshape((prediction.shape[0]))})\n",
    "submission.head(10)"
   ]
  },
  {
   "cell_type": "code",
   "execution_count": 237,
   "metadata": {
    "collapsed": true
   },
   "outputs": [],
   "source": [
    "submission.to_csv(\"submission1.csv\", index=False)"
   ]
  },
  {
   "cell_type": "code",
   "execution_count": 238,
   "metadata": {},
   "outputs": [
    {
     "data": {
      "text/html": [
       "<a href='submission1.csv' target='_blank'>submission1.csv</a><br>"
      ],
      "text/plain": [
       "/home/odenigborig/Github/Kaggle/statoli_iceberg/submission1.csv"
      ]
     },
     "execution_count": 238,
     "metadata": {},
     "output_type": "execute_result"
    }
   ],
   "source": [
    "#create downloadable submission file to upload\n",
    "submission_filename = 'submission1.csv'\n",
    "\n",
    "from IPython.display import FileLink\n",
    "FileLink(submission_filename)"
   ]
  },
  {
   "cell_type": "markdown",
   "metadata": {},
   "source": [
    "### Now let's try some things we learned from the course:\n",
    "- data augmentation\n",
    "- regularize"
   ]
  },
  {
   "cell_type": "code",
   "execution_count": 144,
   "metadata": {
    "collapsed": true
   },
   "outputs": [],
   "source": [
    "from keras.preprocessing import image\n",
    "from scipy import ndimage\n",
    "from matplotlib import pyplot as plt\n",
    "%matplotlib inline"
   ]
  },
  {
   "cell_type": "code",
   "execution_count": 163,
   "metadata": {},
   "outputs": [],
   "source": [
    "#specify data augmentation types\n",
    "gen = image.ImageDataGenerator(rotation_range=10, width_shift_range=0.1,\n",
    "                               height_shift_range=0.1, shear_range=0.1,\n",
    "                               zoom_range=0.1, channel_shift_range=10.,\n",
    "                               horizontal_flip=True, dim_ordering='tf')"
   ]
  },
  {
   "cell_type": "code",
   "execution_count": 181,
   "metadata": {},
   "outputs": [
    {
     "data": {
      "text/plain": [
       "(-0.5, 74.5, 74.5, -0.5)"
      ]
     },
     "execution_count": 181,
     "metadata": {},
     "output_type": "execute_result"
    },
    {
     "data": {
      "image/png": "[encoded data removed]",
      "text/plain": [
       "<matplotlib.figure.Figure at 0x7f886c136750>"
      ]
     },
     "metadata": {},
     "output_type": "display_data"
    }
   ],
   "source": [
    "img = X_train[110,:,:,:]\n",
    "plt.imshow(img)\n",
    "plt.axis('off')"
   ]
  },
  {
   "cell_type": "code",
   "execution_count": 191,
   "metadata": {},
   "outputs": [],
   "source": [
    "batch_size = 64\n",
    "#request the generator to create batches from dataset\n",
    "aug_iter = gen.flow(X_train,batch_size=batch_size, shuffle=True)\n"
   ]
  },
  {
   "cell_type": "code",
   "execution_count": 184,
   "metadata": {
    "collapsed": true
   },
   "outputs": [],
   "source": [
    "def plots(ims, figsize=(12,6), rows=1, interp=False, titles=None):\n",
    "    if type(ims[0]) is np.ndarray:\n",
    "        ims = np.array(ims).astype(np.uint8)\n",
    "        if (ims.shape[-1] != 3):\n",
    "            ims = ims.transpose((0,2,3,1))\n",
    "    f = plt.figure(figsize=figsize)\n",
    "    cols = len(ims)//rows if len(ims) % 2 == 0 else len(ims)//rows + 1\n",
    "    for i in range(len(ims)):\n",
    "        sp = f.add_subplot(rows, cols, i+1)\n",
    "        sp.axis('Off')\n",
    "        if titles is not None:\n",
    "            sp.set_title(titles[i], fontsize=16)\n",
    "        plt.imshow(ims[i], interpolation=None if interp else 'none')\n"
   ]
  },
  {
   "cell_type": "code",
   "execution_count": 185,
   "metadata": {},
   "outputs": [
    {
     "data": {
      "image/png": "[encoded data removed]",
      "text/plain": [
       "<matplotlib.figure.Figure at 0x7f8874063110>"
      ]
     },
     "metadata": {},
     "output_type": "display_data"
    }
   ],
   "source": [
    "#display augmented images, up to 8\n",
    "aug_imgs = [next(aug_iter)[0].astype(np.uint8) for i in range(8)]\n",
    "plots(aug_imgs,(20,7),2)"
   ]
  },
  {
   "cell_type": "code",
   "execution_count": 186,
   "metadata": {},
   "outputs": [
    {
     "name": "stdout",
     "output_type": "stream",
     "text": [
      "(75, 75, 3)\n"
     ]
    },
    {
     "data": {
      "text/plain": [
       "(-0.5, 74.5, 74.5, -0.5)"
      ]
     },
     "execution_count": 186,
     "metadata": {},
     "output_type": "execute_result"
    },
    {
     "data": {
      "image/png": "[encoded data removed]",
      "text/plain": [
       "<matplotlib.figure.Figure at 0x7f8867783510>"
      ]
     },
     "metadata": {},
     "output_type": "display_data"
    }
   ],
   "source": [
    "print(aug_imgs[2].shape)\n",
    "plt.imshow(aug_imgs[2])\n",
    "plt.axis('off')"
   ]
  },
  {
   "cell_type": "markdown",
   "metadata": {},
   "source": [
    "Because we have the additional feature of angles, which is not an image we need to include that in the generator. \n",
    "One way to do this is to create two generators, and set the y input argument to true labels or the angle"
   ]
  },
  {
   "cell_type": "code",
   "execution_count": 193,
   "metadata": {
    "collapsed": true
   },
   "outputs": [],
   "source": [
    "def gen_flow_two_inputs(img_data, angle_data, y_label):\n",
    "    gen1 = gen.flow(X=img_data,y=y_label, batch_size=batch_size, seed=350)\n",
    "    gen2 = gen.flow(X=img_data,y=angle_data, batch_size=batch_size, seed=350)\n",
    "    \n",
    "    while True:\n",
    "        X1 = gen1.next()\n",
    "        X2 = gen2.next()\n",
    "        \n",
    "        #return batches\n",
    "        yield [X1[0], X2[1]], X1[1]\n",
    "\n",
    "#create generator\n",
    "gen_flow = gen_flow_two_inputs(X_train, X_angle_train, y_train)"
   ]
  },
  {
   "cell_type": "code",
   "execution_count": 207,
   "metadata": {},
   "outputs": [
    {
     "name": "stdout",
     "output_type": "stream",
     "text": [
      "(64, 75, 75, 3)\n",
      "(64,)\n",
      "(64,)\n"
     ]
    }
   ],
   "source": [
    "gen1 = gen.flow(X=X_train,y=y_train, batch_size=batch_size, seed=350)\n",
    "gen2 = gen.flow(X=X_train,y=X_angle_train, batch_size=batch_size, seed=350)\n",
    "X1 = gen1.next()\n",
    "X2 = gen2.next()\n",
    "\n",
    "print(X1[0].shape) \n",
    "print(X1[1].shape)\n",
    "print(X2[1].shape)"
   ]
  },
  {
   "cell_type": "code",
   "execution_count": 239,
   "metadata": {},
   "outputs": [
    {
     "name": "stdout",
     "output_type": "stream",
     "text": [
      "Epoch 1/25\n",
      "64/64 [==============================] - 0s - loss: 0.6306 - acc: 0.6719 - val_loss: 0.5908 - val_acc: 0.7307\n",
      "Epoch 2/25\n",
      "64/64 [==============================] - 0s - loss: 0.7080 - acc: 0.6250 - val_loss: 0.5135 - val_acc: 0.7531\n",
      "Epoch 3/25\n",
      "64/64 [==============================] - 0s - loss: 0.5445 - acc: 0.7500 - val_loss: 0.4742 - val_acc: 0.7681\n",
      "Epoch 4/25\n",
      "64/64 [==============================] - 0s - loss: 0.5815 - acc: 0.7188 - val_loss: 0.5363 - val_acc: 0.7556\n",
      "Epoch 5/25\n",
      "64/64 [==============================] - 0s - loss: 0.6463 - acc: 0.6875 - val_loss: 0.4907 - val_acc: 0.7706\n",
      "Epoch 6/25\n",
      "64/64 [==============================] - 0s - loss: 0.6805 - acc: 0.7031 - val_loss: 0.5317 - val_acc: 0.7506\n",
      "Epoch 7/25\n",
      "64/64 [==============================] - 0s - loss: 0.7160 - acc: 0.7188 - val_loss: 0.5925 - val_acc: 0.7232\n",
      "Epoch 8/25\n",
      "64/64 [==============================] - 0s - loss: 0.6132 - acc: 0.6875 - val_loss: 0.5998 - val_acc: 0.7207\n",
      "Epoch 9/25\n",
      "115/64 [=====================================================] - 0s - loss: 0.4725 - acc: 0.7739 - val_loss: 0.5971 - val_acc: 0.7332\n"
     ]
    },
    {
     "data": {
      "text/plain": [
       "<keras.callbacks.History at 0x7f87bfe08510>"
      ]
     },
     "execution_count": 239,
     "metadata": {},
     "output_type": "execute_result"
    }
   ],
   "source": [
    "#re-intialize model\n",
    "#model = get_model() \n",
    "batch_size = 64\n",
    "#fit model with generator batches\n",
    "model.fit_generator(gen_flow,samples_per_epoch= batch_size,\n",
    "                    validation_data=([X_valid, X_angle_valid], y_valid),\n",
    "                    nb_epoch=25, callbacks = callbacks)\n"
   ]
  },
  {
   "cell_type": "code",
   "execution_count": 240,
   "metadata": {},
   "outputs": [
    {
     "name": "stdout",
     "output_type": "stream",
     "text": [
      "Train evaluate:\n",
      "1200/1203 [============================>.] - ETA: 0s[0.59537524747927784, 0.72319201563956437]\n",
      "###########################\n",
      "watch list evaluate:\n",
      "400/401 [============================>.] - ETA: 0s[0.59710762219647517, 0.73316706921394326]\n"
     ]
    }
   ],
   "source": [
    "\n",
    "print(\"Train evaluate:\")\n",
    "print(model.evaluate([X_train, X_angle_train], y_train, verbose=1, batch_size=200))\n",
    "print(\"###########################\")\n",
    "print(\"watch list evaluate:\")\n",
    "print(model.evaluate([X_valid, X_angle_valid], y_valid, verbose=1, batch_size=200))"
   ]
  },
  {
   "cell_type": "code",
   "execution_count": 241,
   "metadata": {
    "scrolled": true
   },
   "outputs": [
    {
     "name": "stdout",
     "output_type": "stream",
     "text": [
      "8400/8424 [============================>.] - ETA: 0s"
     ]
    }
   ],
   "source": [
    "prediction = model.predict([X_test, X_angle_test], verbose=1, batch_size=200)"
   ]
  },
  {
   "cell_type": "code",
   "execution_count": 242,
   "metadata": {
    "scrolled": true
   },
   "outputs": [
    {
     "data": {
      "text/html": [
       "<div>\n",
       "<style>\n",
       "    .dataframe thead tr:only-child th {\n",
       "        text-align: right;\n",
       "    }\n",
       "\n",
       "    .dataframe thead th {\n",
       "        text-align: left;\n",
       "    }\n",
       "\n",
       "    .dataframe tbody tr th {\n",
       "        vertical-align: top;\n",
       "    }\n",
       "</style>\n",
       "<table border=\"1\" class=\"dataframe\">\n",
       "  <thead>\n",
       "    <tr style=\"text-align: right;\">\n",
       "      <th></th>\n",
       "      <th>id</th>\n",
       "      <th>is_iceberg</th>\n",
       "    </tr>\n",
       "  </thead>\n",
       "  <tbody>\n",
       "    <tr>\n",
       "      <th>0</th>\n",
       "      <td>5941774d</td>\n",
       "      <td>0.739975</td>\n",
       "    </tr>\n",
       "    <tr>\n",
       "      <th>1</th>\n",
       "      <td>4023181e</td>\n",
       "      <td>0.344589</td>\n",
       "    </tr>\n",
       "    <tr>\n",
       "      <th>2</th>\n",
       "      <td>b20200e4</td>\n",
       "      <td>0.004078</td>\n",
       "    </tr>\n",
       "    <tr>\n",
       "      <th>3</th>\n",
       "      <td>e7f018bb</td>\n",
       "      <td>0.799160</td>\n",
       "    </tr>\n",
       "    <tr>\n",
       "      <th>4</th>\n",
       "      <td>4371c8c3</td>\n",
       "      <td>0.670332</td>\n",
       "    </tr>\n",
       "    <tr>\n",
       "      <th>5</th>\n",
       "      <td>a8d9b1fd</td>\n",
       "      <td>0.317822</td>\n",
       "    </tr>\n",
       "    <tr>\n",
       "      <th>6</th>\n",
       "      <td>29e7727e</td>\n",
       "      <td>0.882011</td>\n",
       "    </tr>\n",
       "    <tr>\n",
       "      <th>7</th>\n",
       "      <td>92a51ffb</td>\n",
       "      <td>0.955356</td>\n",
       "    </tr>\n",
       "    <tr>\n",
       "      <th>8</th>\n",
       "      <td>c769ac97</td>\n",
       "      <td>0.868325</td>\n",
       "    </tr>\n",
       "    <tr>\n",
       "      <th>9</th>\n",
       "      <td>aee0547d</td>\n",
       "      <td>0.172535</td>\n",
       "    </tr>\n",
       "  </tbody>\n",
       "</table>\n",
       "</div>"
      ],
      "text/plain": [
       "         id  is_iceberg\n",
       "0  5941774d    0.739975\n",
       "1  4023181e    0.344589\n",
       "2  b20200e4    0.004078\n",
       "3  e7f018bb    0.799160\n",
       "4  4371c8c3    0.670332\n",
       "5  a8d9b1fd    0.317822\n",
       "6  29e7727e    0.882011\n",
       "7  92a51ffb    0.955356\n",
       "8  c769ac97    0.868325\n",
       "9  aee0547d    0.172535"
      ]
     },
     "execution_count": 242,
     "metadata": {},
     "output_type": "execute_result"
    }
   ],
   "source": [
    "submission = pd.DataFrame({'id': test[\"id\"], 'is_iceberg': prediction.reshape((prediction.shape[0]))})\n",
    "submission.head(10)"
   ]
  },
  {
   "cell_type": "code",
   "execution_count": 243,
   "metadata": {
    "collapsed": true
   },
   "outputs": [],
   "source": [
    "submission.to_csv(\"submission2.csv\", index=False)"
   ]
  },
  {
   "cell_type": "code",
   "execution_count": 244,
   "metadata": {},
   "outputs": [
    {
     "data": {
      "text/html": [
       "<a href='submission2.csv' target='_blank'>submission2.csv</a><br>"
      ],
      "text/plain": [
       "/home/odenigborig/Github/Kaggle/statoli_iceberg/submission2.csv"
      ]
     },
     "execution_count": 244,
     "metadata": {},
     "output_type": "execute_result"
    }
   ],
   "source": [
    "#create downloadable submission file to upload\n",
    "submission_filename = 'submission2.csv'\n",
    "\n",
    "from IPython.display import FileLink\n",
    "FileLink(submission_filename)"
   ]
  },
  {
   "cell_type": "code",
   "execution_count": 245,
   "metadata": {
    "scrolled": true
   },
   "outputs": [
    {
     "name": "stdout",
     "output_type": "stream",
     "text": [
      "Epoch 1/15\n",
      "64/64 [==============================] - 0s - loss: 0.4727 - acc: 0.7188 - val_loss: 0.5221 - val_acc: 0.7556\n",
      "Epoch 2/15\n",
      "64/64 [==============================] - 0s - loss: 0.5401 - acc: 0.7500 - val_loss: 0.5793 - val_acc: 0.7382\n",
      "Epoch 3/15\n",
      "64/64 [==============================] - 0s - loss: 0.6779 - acc: 0.6562 - val_loss: 0.4377 - val_acc: 0.8055\n",
      "Epoch 4/15\n",
      "64/64 [==============================] - 0s - loss: 0.6110 - acc: 0.7188 - val_loss: 0.5735 - val_acc: 0.7481\n",
      "Epoch 5/15\n",
      "64/64 [==============================] - 0s - loss: 0.6067 - acc: 0.7500 - val_loss: 0.7168 - val_acc: 0.7032\n",
      "Epoch 6/15\n",
      "64/64 [==============================] - 0s - loss: 0.6901 - acc: 0.6562 - val_loss: 0.5600 - val_acc: 0.7656\n",
      "Epoch 7/15\n",
      "64/64 [==============================] - 0s - loss: 0.7958 - acc: 0.7188 - val_loss: 0.5856 - val_acc: 0.7731\n",
      "Epoch 8/15\n",
      "64/64 [==============================] - 0s - loss: 0.5143 - acc: 0.8281 - val_loss: 0.6159 - val_acc: 0.7481\n",
      "Epoch 9/15\n",
      "64/64 [==============================] - 0s - loss: 0.5408 - acc: 0.7500 - val_loss: 0.5361 - val_acc: 0.7656\n"
     ]
    },
    {
     "data": {
      "text/plain": [
       "<keras.callbacks.History at 0x7f87bb945c90>"
      ]
     },
     "execution_count": 245,
     "metadata": {},
     "output_type": "execute_result"
    }
   ],
   "source": [
    "optimizer = Adam(lr=1e-4, beta_1=0.9, beta_2=0.999, epsilon=1e-08, decay=0.0)\n",
    "model.compile(loss=\"binary_crossentropy\", optimizer=optimizer, metrics=[\"accuracy\"])\n",
    "\n",
    "model.fit_generator(gen_flow,samples_per_epoch = batch_size,\n",
    "                    validation_data=([X_valid, X_angle_valid], y_valid),\n",
    "                    nb_epoch=15, callbacks = callbacks)\n"
   ]
  },
  {
   "cell_type": "code",
   "execution_count": 246,
   "metadata": {},
   "outputs": [
    {
     "name": "stdout",
     "output_type": "stream",
     "text": [
      "Train evaluate:\n",
      "1200/1203 [============================>.] - ETA: 0s[0.51909146461007205, 0.76226101219901821]\n",
      "###########################\n",
      "watch list evaluate:\n",
      "400/401 [============================>.] - ETA: 0s[0.53613831732710104, 0.76558602064327708]\n"
     ]
    }
   ],
   "source": [
    "\n",
    "print(\"Train evaluate:\")\n",
    "print(model.evaluate([X_train, X_angle_train], y_train, verbose=1, batch_size=200))\n",
    "print(\"###########################\")\n",
    "print(\"watch list evaluate:\")\n",
    "print(model.evaluate([X_valid, X_angle_valid], y_valid, verbose=1, batch_size=200))"
   ]
  },
  {
   "cell_type": "code",
   "execution_count": 247,
   "metadata": {
    "scrolled": true
   },
   "outputs": [
    {
     "name": "stdout",
     "output_type": "stream",
     "text": [
      "8400/8424 [============================>.] - ETA: 0s"
     ]
    }
   ],
   "source": [
    "prediction = model.predict([X_test, X_angle_test], verbose=1, batch_size=200)"
   ]
  },
  {
   "cell_type": "code",
   "execution_count": 248,
   "metadata": {
    "scrolled": true
   },
   "outputs": [
    {
     "data": {
      "text/html": [
       "<div>\n",
       "<style>\n",
       "    .dataframe thead tr:only-child th {\n",
       "        text-align: right;\n",
       "    }\n",
       "\n",
       "    .dataframe thead th {\n",
       "        text-align: left;\n",
       "    }\n",
       "\n",
       "    .dataframe tbody tr th {\n",
       "        vertical-align: top;\n",
       "    }\n",
       "</style>\n",
       "<table border=\"1\" class=\"dataframe\">\n",
       "  <thead>\n",
       "    <tr style=\"text-align: right;\">\n",
       "      <th></th>\n",
       "      <th>id</th>\n",
       "      <th>is_iceberg</th>\n",
       "    </tr>\n",
       "  </thead>\n",
       "  <tbody>\n",
       "    <tr>\n",
       "      <th>0</th>\n",
       "      <td>5941774d</td>\n",
       "      <td>0.726690</td>\n",
       "    </tr>\n",
       "    <tr>\n",
       "      <th>1</th>\n",
       "      <td>4023181e</td>\n",
       "      <td>0.330245</td>\n",
       "    </tr>\n",
       "    <tr>\n",
       "      <th>2</th>\n",
       "      <td>b20200e4</td>\n",
       "      <td>0.001824</td>\n",
       "    </tr>\n",
       "    <tr>\n",
       "      <th>3</th>\n",
       "      <td>e7f018bb</td>\n",
       "      <td>0.720863</td>\n",
       "    </tr>\n",
       "    <tr>\n",
       "      <th>4</th>\n",
       "      <td>4371c8c3</td>\n",
       "      <td>0.610664</td>\n",
       "    </tr>\n",
       "    <tr>\n",
       "      <th>5</th>\n",
       "      <td>a8d9b1fd</td>\n",
       "      <td>0.290876</td>\n",
       "    </tr>\n",
       "    <tr>\n",
       "      <th>6</th>\n",
       "      <td>29e7727e</td>\n",
       "      <td>0.889366</td>\n",
       "    </tr>\n",
       "    <tr>\n",
       "      <th>7</th>\n",
       "      <td>92a51ffb</td>\n",
       "      <td>0.943029</td>\n",
       "    </tr>\n",
       "    <tr>\n",
       "      <th>8</th>\n",
       "      <td>c769ac97</td>\n",
       "      <td>0.783905</td>\n",
       "    </tr>\n",
       "    <tr>\n",
       "      <th>9</th>\n",
       "      <td>aee0547d</td>\n",
       "      <td>0.125785</td>\n",
       "    </tr>\n",
       "  </tbody>\n",
       "</table>\n",
       "</div>"
      ],
      "text/plain": [
       "         id  is_iceberg\n",
       "0  5941774d    0.726690\n",
       "1  4023181e    0.330245\n",
       "2  b20200e4    0.001824\n",
       "3  e7f018bb    0.720863\n",
       "4  4371c8c3    0.610664\n",
       "5  a8d9b1fd    0.290876\n",
       "6  29e7727e    0.889366\n",
       "7  92a51ffb    0.943029\n",
       "8  c769ac97    0.783905\n",
       "9  aee0547d    0.125785"
      ]
     },
     "execution_count": 248,
     "metadata": {},
     "output_type": "execute_result"
    }
   ],
   "source": [
    "submission = pd.DataFrame({'id': test[\"id\"], 'is_iceberg': prediction.reshape((prediction.shape[0]))})\n",
    "submission.head(10)"
   ]
  },
  {
   "cell_type": "code",
   "execution_count": 249,
   "metadata": {
    "collapsed": true
   },
   "outputs": [],
   "source": [
    "submission.to_csv(\"submission3.csv\", index=False)"
   ]
  },
  {
   "cell_type": "code",
   "execution_count": 250,
   "metadata": {},
   "outputs": [
    {
     "data": {
      "text/html": [
       "<a href='submission3.csv' target='_blank'>submission3.csv</a><br>"
      ],
      "text/plain": [
       "/home/odenigborig/Github/Kaggle/statoli_iceberg/submission3.csv"
      ]
     },
     "execution_count": 250,
     "metadata": {},
     "output_type": "execute_result"
    }
   ],
   "source": [
    "#create downloadable submission file to upload\n",
    "submission_filename = 'submission3.csv'\n",
    "\n",
    "from IPython.display import FileLink\n",
    "FileLink(submission_filename)"
   ]
  },
  {
   "cell_type": "code",
   "execution_count": 252,
   "metadata": {},
   "outputs": [
    {
     "name": "stdout",
     "output_type": "stream",
     "text": [
      "Epoch 1/15\n",
      "64/64 [==============================] - 0s - loss: 0.6096 - acc: 0.7344 - val_loss: 0.4705 - val_acc: 0.7606\n",
      "Epoch 2/15\n",
      "64/64 [==============================] - 0s - loss: 0.4990 - acc: 0.7656 - val_loss: 0.4963 - val_acc: 0.7731\n",
      "Epoch 3/15\n",
      "64/64 [==============================] - 0s - loss: 0.5694 - acc: 0.7031 - val_loss: 0.4724 - val_acc: 0.7805\n",
      "Epoch 4/15\n",
      "64/64 [==============================] - 0s - loss: 0.5828 - acc: 0.6875 - val_loss: 0.4904 - val_acc: 0.7531\n",
      "Epoch 5/15\n",
      "64/64 [==============================] - 0s - loss: 0.5090 - acc: 0.7344 - val_loss: 0.4555 - val_acc: 0.7855\n",
      "Epoch 6/15\n",
      "64/64 [==============================] - 0s - loss: 0.6962 - acc: 0.7188 - val_loss: 0.4571 - val_acc: 0.7681\n",
      "Epoch 7/15\n",
      "64/64 [==============================] - 0s - loss: 0.6748 - acc: 0.6875 - val_loss: 0.4779 - val_acc: 0.7706\n",
      "Epoch 8/15\n",
      "64/64 [==============================] - 0s - loss: 0.8203 - acc: 0.5938 - val_loss: 0.4647 - val_acc: 0.7731\n",
      "Epoch 9/15\n",
      "64/64 [==============================] - 0s - loss: 0.6288 - acc: 0.6719 - val_loss: 0.4772 - val_acc: 0.7656\n",
      "Epoch 10/15\n",
      "64/64 [==============================] - 0s - loss: 0.7064 - acc: 0.6875 - val_loss: 0.4715 - val_acc: 0.7681\n",
      "Epoch 11/15\n",
      "64/64 [==============================] - 0s - loss: 0.5801 - acc: 0.7031 - val_loss: 0.4916 - val_acc: 0.7706\n"
     ]
    },
    {
     "data": {
      "text/plain": [
       "<keras.callbacks.History at 0x7f87c02906d0>"
      ]
     },
     "execution_count": 252,
     "metadata": {},
     "output_type": "execute_result"
    }
   ],
   "source": [
    "optimizer = Adam(lr=1e-5)\n",
    "model.compile(loss=\"binary_crossentropy\", optimizer=optimizer, metrics=[\"accuracy\"])\n",
    "model.fit_generator(gen_flow,samples_per_epoch= batch_size,\n",
    "                    validation_data=([X_valid, X_angle_valid], y_valid),\n",
    "                    nb_epoch=15, callbacks = callbacks)\n"
   ]
  },
  {
   "cell_type": "code",
   "execution_count": 253,
   "metadata": {},
   "outputs": [
    {
     "name": "stdout",
     "output_type": "stream",
     "text": [
      "8400/8424 [============================>.] - ETA: 0s"
     ]
    },
    {
     "data": {
      "text/html": [
       "<a href='submission4.csv' target='_blank'>submission4.csv</a><br>"
      ],
      "text/plain": [
       "/home/odenigborig/Github/Kaggle/statoli_iceberg/submission4.csv"
      ]
     },
     "execution_count": 253,
     "metadata": {},
     "output_type": "execute_result"
    }
   ],
   "source": [
    "#compute predictions\n",
    "model.save_weights(model_path+'model_4.h5')\n",
    "prediction = model.predict([X_test, X_angle_test], verbose=1, batch_size=200)\n",
    "submission = pd.DataFrame({'id': test[\"id\"], 'is_iceberg': prediction.reshape((prediction.shape[0]))})\n",
    "submission.to_csv(\"submission4.csv\", index=False)\n",
    "\n",
    "#create downloadable submission file to upload\n",
    "submission_filename = 'submission4.csv'\n",
    "\n",
    "from IPython.display import FileLink\n",
    "FileLink(submission_filename)"
   ]
  },
  {
   "cell_type": "code",
   "execution_count": 256,
   "metadata": {
    "collapsed": true
   },
   "outputs": [],
   "source": [
    "#let's go crazy with the augmentation types\n",
    "\n",
    "#specify data augmentation types\n",
    "gen = image.ImageDataGenerator(rotation_range=40, width_shift_range=0.5,\n",
    "                               height_shift_range=0.3, shear_range=0.1,\n",
    "                               rescale=1./255,\n",
    "                               zoom_range=0.2, channel_shift_range=10.,\n",
    "                               horizontal_flip=True, dim_ordering='tf')"
   ]
  },
  {
   "cell_type": "code",
   "execution_count": 259,
   "metadata": {},
   "outputs": [
    {
     "name": "stdout",
     "output_type": "stream",
     "text": [
      "Epoch 1/25\n",
      "128/128 [==============================] - 0s - loss: 0.6651 - acc: 0.6797 - val_loss: 0.4408 - val_acc: 0.7955\n",
      "Epoch 2/25\n",
      "128/128 [==============================] - 0s - loss: 0.5886 - acc: 0.7500 - val_loss: 0.4618 - val_acc: 0.7830\n",
      "Epoch 3/25\n",
      "128/128 [==============================] - 0s - loss: 0.6947 - acc: 0.6797 - val_loss: 0.4706 - val_acc: 0.7805\n",
      "Epoch 4/25\n",
      "128/128 [==============================] - 0s - loss: 0.6581 - acc: 0.6797 - val_loss: 0.4325 - val_acc: 0.8030\n",
      "Epoch 5/25\n",
      "179/128 [=========================================] - 0s - loss: 0.7524 - acc: 0.6425 - val_loss: 0.4270 - val_acc: 0.8080\n",
      "Epoch 6/25\n",
      "128/128 [==============================] - 0s - loss: 0.5903 - acc: 0.7734 - val_loss: 0.4845 - val_acc: 0.7756\n",
      "Epoch 7/25\n",
      "128/128 [==============================] - 0s - loss: 0.5808 - acc: 0.7266 - val_loss: 0.4376 - val_acc: 0.8155\n",
      "Epoch 8/25\n",
      "128/128 [==============================] - 0s - loss: 0.7503 - acc: 0.6406 - val_loss: 0.4491 - val_acc: 0.7980\n",
      "Epoch 9/25\n",
      "128/128 [==============================] - 0s - loss: 0.7008 - acc: 0.6562 - val_loss: 0.4276 - val_acc: 0.8105\n",
      "Epoch 10/25\n",
      "128/128 [==============================] - 0s - loss: 0.6703 - acc: 0.6641 - val_loss: 0.4282 - val_acc: 0.8130\n",
      "Epoch 11/25\n",
      "128/128 [==============================] - 0s - loss: 0.5968 - acc: 0.7422 - val_loss: 0.4828 - val_acc: 0.7731\n"
     ]
    },
    {
     "data": {
      "text/plain": [
       "<keras.callbacks.History at 0x7f87c0290f10>"
      ]
     },
     "execution_count": 259,
     "metadata": {},
     "output_type": "execute_result"
    }
   ],
   "source": [
    "optimizer = Adam(lr=1e-4)\n",
    "model.compile(loss=\"binary_crossentropy\", optimizer=optimizer, metrics=[\"accuracy\"])\n",
    "\n",
    "batch_size = 128\n",
    "model.fit_generator(gen_flow,samples_per_epoch= batch_size,\n",
    "                    validation_data=([X_valid, X_angle_valid], y_valid),\n",
    "                    nb_epoch=25, callbacks = callbacks)\n"
   ]
  },
  {
   "cell_type": "code",
   "execution_count": 260,
   "metadata": {},
   "outputs": [
    {
     "name": "stdout",
     "output_type": "stream",
     "text": [
      "8400/8424 [============================>.] - ETA: 0s"
     ]
    },
    {
     "data": {
      "text/html": [
       "<a href='submission5.csv' target='_blank'>submission5.csv</a><br>"
      ],
      "text/plain": [
       "/home/odenigborig/Github/Kaggle/statoli_iceberg/submission5.csv"
      ]
     },
     "execution_count": 260,
     "metadata": {},
     "output_type": "execute_result"
    }
   ],
   "source": [
    "model.save_weights(model_path+'model_5.h5')\n",
    "prediction = model.predict([X_test, X_angle_test], verbose=1, batch_size=200)\n",
    "submission = pd.DataFrame({'id': test[\"id\"], 'is_iceberg': prediction.reshape((prediction.shape[0]))})\n",
    "submission.to_csv(\"submission5.csv\", index=False)\n",
    "\n",
    "#create downloadable submission file to upload\n",
    "submission_filename = 'submission5.csv'\n",
    "\n",
    "from IPython.display import FileLink\n",
    "FileLink(submission_filename)"
   ]
  },
  {
   "cell_type": "code",
   "execution_count": 261,
   "metadata": {
    "collapsed": true
   },
   "outputs": [],
   "source": [
    "#re-initialize model\n",
    "model = get_model()\n",
    "\n",
    "#specify data augmentation types\n",
    "gen = image.ImageDataGenerator(rotation_range=40, width_shift_range=0.1,\n",
    "                               height_shift_range=0.1,zoom_range=0.1, \n",
    "                               vertical_flip = True,horizontal_flip=True)"
   ]
  },
  {
   "cell_type": "code",
   "execution_count": 268,
   "metadata": {},
   "outputs": [
    {
     "name": "stdout",
     "output_type": "stream",
     "text": [
      "Epoch 1/25\n",
      "64/64 [==============================] - 0s - loss: 0.6501 - acc: 0.6406 - val_loss: 0.5328 - val_acc: 0.7581\n",
      "Epoch 2/25\n",
      "64/64 [==============================] - 0s - loss: 0.7338 - acc: 0.7031 - val_loss: 0.5345 - val_acc: 0.7880\n",
      "Epoch 3/25\n",
      "64/64 [==============================] - 0s - loss: 0.8939 - acc: 0.6250 - val_loss: 0.5213 - val_acc: 0.7880\n",
      "Epoch 4/25\n",
      "64/64 [==============================] - 0s - loss: 0.8886 - acc: 0.6250 - val_loss: 0.5419 - val_acc: 0.7631\n",
      "Epoch 5/25\n",
      "64/64 [==============================] - 0s - loss: 0.6031 - acc: 0.7031 - val_loss: 0.6321 - val_acc: 0.7431\n",
      "Epoch 6/25\n",
      "64/64 [==============================] - 0s - loss: 0.8113 - acc: 0.5781 - val_loss: 0.5300 - val_acc: 0.7706\n",
      "Epoch 7/25\n",
      "64/64 [==============================] - 0s - loss: 0.7825 - acc: 0.6094 - val_loss: 0.5705 - val_acc: 0.7656\n",
      "Epoch 8/25\n",
      "64/64 [==============================] - 0s - loss: 0.7068 - acc: 0.6562 - val_loss: 0.5349 - val_acc: 0.7880\n",
      "Epoch 9/25\n",
      "64/64 [==============================] - 0s - loss: 0.8803 - acc: 0.6094 - val_loss: 0.5244 - val_acc: 0.7955\n"
     ]
    },
    {
     "data": {
      "text/plain": [
       "<keras.callbacks.History at 0x7f87c348ba50>"
      ]
     },
     "execution_count": 268,
     "metadata": {},
     "output_type": "execute_result"
    }
   ],
   "source": [
    "optimizer = Adam(lr=1e-3)\n",
    "model.compile(loss=\"binary_crossentropy\", optimizer=optimizer, metrics=[\"accuracy\"])\n",
    "\n",
    "batch_size = 64\n",
    "model.fit_generator(gen_flow,samples_per_epoch= batch_size,\n",
    "                    validation_data=([X_valid, X_angle_valid], y_valid),\n",
    "                    nb_epoch=25, callbacks = callbacks)\n"
   ]
  },
  {
   "cell_type": "code",
   "execution_count": 267,
   "metadata": {},
   "outputs": [
    {
     "name": "stdout",
     "output_type": "stream",
     "text": [
      "8416/8424 [============================>.] - ETA: 0s"
     ]
    },
    {
     "data": {
      "text/html": [
       "<a href='submission6.csv' target='_blank'>submission6.csv</a><br>"
      ],
      "text/plain": [
       "/home/odenigborig/Github/Kaggle/statoli_iceberg/submission6.csv"
      ]
     },
     "execution_count": 267,
     "metadata": {},
     "output_type": "execute_result"
    }
   ],
   "source": [
    "model.save_weights(model_path+'model_6.h5')\n",
    "prediction = model.predict([X_test, X_angle_test], verbose=1)\n",
    "submission = pd.DataFrame({'id': test[\"id\"], 'is_iceberg': prediction.reshape((prediction.shape[0]))})\n",
    "submission.to_csv(\"submission6.csv\", index=False)\n",
    "\n",
    "#create downloadable submission file to upload\n",
    "submission_filename = 'submission6.csv'\n",
    "\n",
    "from IPython.display import FileLink\n",
    "FileLink(submission_filename)"
   ]
  },
  {
   "cell_type": "code",
   "execution_count": 269,
   "metadata": {},
   "outputs": [
    {
     "name": "stdout",
     "output_type": "stream",
     "text": [
      "Epoch 1/25\n",
      "64/64 [==============================] - 0s - loss: 0.6585 - acc: 0.6719 - val_loss: 0.5185 - val_acc: 0.7980\n",
      "Epoch 2/25\n",
      "64/64 [==============================] - 0s - loss: 0.6716 - acc: 0.7031 - val_loss: 0.5518 - val_acc: 0.7880\n",
      "Epoch 3/25\n",
      "64/64 [==============================] - 0s - loss: 0.6625 - acc: 0.6875 - val_loss: 0.5590 - val_acc: 0.7781\n",
      "Epoch 4/25\n",
      "64/64 [==============================] - 0s - loss: 0.6033 - acc: 0.7500 - val_loss: 0.5050 - val_acc: 0.8105\n",
      "Epoch 5/25\n",
      "64/64 [==============================] - 0s - loss: 0.7475 - acc: 0.6406 - val_loss: 0.5543 - val_acc: 0.7830\n",
      "Epoch 6/25\n",
      "64/64 [==============================] - 0s - loss: 0.5030 - acc: 0.8281 - val_loss: 0.5905 - val_acc: 0.7606\n",
      "Epoch 7/25\n",
      "64/64 [==============================] - 0s - loss: 0.6240 - acc: 0.7188 - val_loss: 0.5165 - val_acc: 0.8055\n",
      "Epoch 8/25\n",
      "115/64 [=====================================================] - 0s - loss: 0.8117 - acc: 0.6000 - val_loss: 0.5950 - val_acc: 0.7481\n",
      "Epoch 9/25\n",
      "64/64 [==============================] - 0s - loss: 0.9213 - acc: 0.5781 - val_loss: 0.5524 - val_acc: 0.7880\n",
      "Epoch 10/25\n",
      "64/64 [==============================] - 0s - loss: 0.7736 - acc: 0.6562 - val_loss: 0.5224 - val_acc: 0.7930\n"
     ]
    },
    {
     "data": {
      "text/plain": [
       "<keras.callbacks.History at 0x7f87c0290910>"
      ]
     },
     "execution_count": 269,
     "metadata": {},
     "output_type": "execute_result"
    }
   ],
   "source": [
    "optimizer = Adam(lr=1e-3)\n",
    "model.compile(loss=\"binary_crossentropy\", optimizer=optimizer, metrics=[\"accuracy\"])\n",
    "\n",
    "batch_size = 64\n",
    "model.fit_generator(gen_flow,samples_per_epoch= batch_size,\n",
    "                    validation_data=([X_valid, X_angle_valid], y_valid),\n",
    "                    nb_epoch=25, callbacks = callbacks)\n"
   ]
  },
  {
   "cell_type": "code",
   "execution_count": 270,
   "metadata": {},
   "outputs": [
    {
     "name": "stdout",
     "output_type": "stream",
     "text": [
      "8416/8424 [============================>.] - ETA: 0s"
     ]
    },
    {
     "data": {
      "text/html": [
       "<a href='submission7.csv' target='_blank'>submission7.csv</a><br>"
      ],
      "text/plain": [
       "/home/odenigborig/Github/Kaggle/statoli_iceberg/submission7.csv"
      ]
     },
     "execution_count": 270,
     "metadata": {},
     "output_type": "execute_result"
    }
   ],
   "source": [
    "model.save_weights(model_path+'model_7.h5')\n",
    "prediction = model.predict([X_test, X_angle_test], verbose=1)\n",
    "submission = pd.DataFrame({'id': test[\"id\"], 'is_iceberg': prediction.reshape((prediction.shape[0]))})\n",
    "submission.to_csv(\"submission7.csv\", index=False)\n",
    "\n",
    "#create downloadable submission file to upload\n",
    "submission_filename = 'submission7.csv'\n",
    "\n",
    "from IPython.display import FileLink\n",
    "FileLink(submission_filename)"
   ]
  },
  {
   "cell_type": "code",
   "execution_count": 274,
   "metadata": {},
   "outputs": [
    {
     "name": "stdout",
     "output_type": "stream",
     "text": [
      "Epoch 1/25\n",
      "64/64 [==============================] - 0s - loss: 0.8144 - acc: 0.6875 - val_loss: 0.4874 - val_acc: 0.8105\n",
      "Epoch 2/25\n",
      "64/64 [==============================] - 0s - loss: 0.6679 - acc: 0.7031 - val_loss: 0.5436 - val_acc: 0.7781\n",
      "Epoch 3/25\n",
      "64/64 [==============================] - 0s - loss: 0.4569 - acc: 0.7969 - val_loss: 0.5054 - val_acc: 0.7830\n",
      "Epoch 4/25\n",
      "64/64 [==============================] - 0s - loss: 0.5099 - acc: 0.7812 - val_loss: 0.5199 - val_acc: 0.7855\n",
      "Epoch 5/25\n",
      "64/64 [==============================] - 0s - loss: 0.6979 - acc: 0.7344 - val_loss: 0.4923 - val_acc: 0.8130\n",
      "Epoch 6/25\n",
      "64/64 [==============================] - 0s - loss: 0.7474 - acc: 0.6094 - val_loss: 0.5778 - val_acc: 0.7681\n",
      "Epoch 7/25\n",
      "64/64 [==============================] - 0s - loss: 0.6783 - acc: 0.6719 - val_loss: 0.4756 - val_acc: 0.8229\n",
      "Epoch 8/25\n",
      "64/64 [==============================] - 0s - loss: 0.6977 - acc: 0.7344 - val_loss: 0.6498 - val_acc: 0.7257\n",
      "Epoch 9/25\n",
      "64/64 [==============================] - 0s - loss: 0.6670 - acc: 0.7500 - val_loss: 0.5258 - val_acc: 0.8005\n",
      "Epoch 10/25\n",
      "64/64 [==============================] - 0s - loss: 0.6861 - acc: 0.6875 - val_loss: 0.4918 - val_acc: 0.8055\n",
      "Epoch 11/25\n",
      "64/64 [==============================] - 0s - loss: 0.6058 - acc: 0.7344 - val_loss: 0.4985 - val_acc: 0.8030\n",
      "Epoch 12/25\n",
      "64/64 [==============================] - 0s - loss: 0.8733 - acc: 0.5625 - val_loss: 0.4978 - val_acc: 0.7830\n",
      "Epoch 13/25\n",
      "64/64 [==============================] - 0s - loss: 0.6342 - acc: 0.7031 - val_loss: 0.6128 - val_acc: 0.7307\n"
     ]
    },
    {
     "data": {
      "text/plain": [
       "<keras.callbacks.History at 0x7f87bf5eee10>"
      ]
     },
     "execution_count": 274,
     "metadata": {},
     "output_type": "execute_result"
    }
   ],
   "source": [
    "optimizer = Adam(lr=1e-5)\n",
    "model.compile(loss=\"binary_crossentropy\", optimizer=optimizer, metrics=[\"accuracy\"])\n",
    "\n",
    "batch_size = 64\n",
    "model.fit_generator(gen_flow,samples_per_epoch= batch_size,\n",
    "                    validation_data=([X_valid, X_angle_valid], y_valid),\n",
    "                    nb_epoch=25, callbacks = callbacks)\n"
   ]
  },
  {
   "cell_type": "code",
   "execution_count": 275,
   "metadata": {},
   "outputs": [
    {
     "name": "stdout",
     "output_type": "stream",
     "text": [
      "8416/8424 [============================>.] - ETA: 0s"
     ]
    },
    {
     "data": {
      "text/html": [
       "<a href='submission8.csv' target='_blank'>submission8.csv</a><br>"
      ],
      "text/plain": [
       "/home/odenigborig/Github/Kaggle/statoli_iceberg/submission8.csv"
      ]
     },
     "execution_count": 275,
     "metadata": {},
     "output_type": "execute_result"
    }
   ],
   "source": [
    "model.save_weights(model_path+'model_8.h5')\n",
    "prediction = model.predict([X_test, X_angle_test], verbose=1)\n",
    "submission = pd.DataFrame({'id': test[\"id\"], 'is_iceberg': prediction.reshape((prediction.shape[0]))})\n",
    "submission.to_csv(\"submission8.csv\", index=False)\n",
    "\n",
    "#create downloadable submission file to upload\n",
    "submission_filename = 'submission8.csv'\n",
    "\n",
    "from IPython.display import FileLink\n",
    "FileLink(submission_filename)"
   ]
  },
  {
   "cell_type": "code",
   "execution_count": 278,
   "metadata": {},
   "outputs": [
    {
     "name": "stdout",
     "output_type": "stream",
     "text": [
      "Epoch 1/25\n",
      "64/64 [==============================] - 0s - loss: 0.5679 - acc: 0.7812 - val_loss: 0.5938 - val_acc: 0.7357\n",
      "Epoch 2/25\n",
      "64/64 [==============================] - 0s - loss: 0.5823 - acc: 0.7344 - val_loss: 0.5230 - val_acc: 0.7706\n",
      "Epoch 3/25\n",
      "64/64 [==============================] - 0s - loss: 0.4501 - acc: 0.7188 - val_loss: 0.5800 - val_acc: 0.7257\n",
      "Epoch 4/25\n",
      "64/64 [==============================] - 0s - loss: 0.5811 - acc: 0.6406 - val_loss: 0.4919 - val_acc: 0.7905\n",
      "Epoch 5/25\n",
      "64/64 [==============================] - 0s - loss: 0.7736 - acc: 0.6875 - val_loss: 0.4554 - val_acc: 0.8130\n",
      "Epoch 6/25\n",
      "64/64 [==============================] - 0s - loss: 0.5201 - acc: 0.7812 - val_loss: 0.5106 - val_acc: 0.7756\n",
      "Epoch 7/25\n",
      "64/64 [==============================] - 0s - loss: 0.4955 - acc: 0.7656 - val_loss: 0.4650 - val_acc: 0.8180\n",
      "Epoch 8/25\n",
      "64/64 [==============================] - 0s - loss: 0.7652 - acc: 0.6406 - val_loss: 0.5327 - val_acc: 0.7681\n",
      "Epoch 9/25\n",
      "64/64 [==============================] - 0s - loss: 0.7595 - acc: 0.7188 - val_loss: 0.4465 - val_acc: 0.8279\n",
      "Epoch 10/25\n",
      "64/64 [==============================] - 0s - loss: 0.5671 - acc: 0.7969 - val_loss: 0.5073 - val_acc: 0.7955\n",
      "Epoch 11/25\n",
      "64/64 [==============================] - 0s - loss: 0.6135 - acc: 0.6719 - val_loss: 0.5233 - val_acc: 0.7631\n",
      "Epoch 12/25\n",
      "64/64 [==============================] - 0s - loss: 0.6270 - acc: 0.7500 - val_loss: 0.5129 - val_acc: 0.7930\n",
      "Epoch 13/25\n",
      "64/64 [==============================] - 0s - loss: 0.6427 - acc: 0.6719 - val_loss: 0.5181 - val_acc: 0.7880\n",
      "Epoch 14/25\n",
      "64/64 [==============================] - 0s - loss: 0.7446 - acc: 0.7500 - val_loss: 0.5469 - val_acc: 0.7706\n",
      "Epoch 15/25\n",
      "64/64 [==============================] - 0s - loss: 0.6056 - acc: 0.6719 - val_loss: 0.4807 - val_acc: 0.8130\n"
     ]
    },
    {
     "data": {
      "text/plain": [
       "<keras.callbacks.History at 0x7f87bf17cbd0>"
      ]
     },
     "execution_count": 278,
     "metadata": {},
     "output_type": "execute_result"
    }
   ],
   "source": [
    "optimizer = Adam(lr=1e-4)\n",
    "model.compile(loss=\"binary_crossentropy\", optimizer=optimizer, metrics=[\"accuracy\"])\n",
    "\n",
    "batch_size = 64\n",
    "model.fit_generator(gen_flow,samples_per_epoch= batch_size,\n",
    "                    validation_data=([X_valid, X_angle_valid], y_valid),\n",
    "                    nb_epoch=25, callbacks = callbacks)\n"
   ]
  },
  {
   "cell_type": "code",
   "execution_count": 279,
   "metadata": {},
   "outputs": [
    {
     "name": "stdout",
     "output_type": "stream",
     "text": [
      "8416/8424 [============================>.] - ETA: 0s"
     ]
    },
    {
     "data": {
      "text/html": [
       "<a href='submission9.csv' target='_blank'>submission9.csv</a><br>"
      ],
      "text/plain": [
       "/home/odenigborig/Github/Kaggle/statoli_iceberg/submission9.csv"
      ]
     },
     "execution_count": 279,
     "metadata": {},
     "output_type": "execute_result"
    }
   ],
   "source": [
    "model.save_weights(model_path+'model_9.h5')\n",
    "prediction = model.predict([X_test, X_angle_test], verbose=1)\n",
    "submission = pd.DataFrame({'id': test[\"id\"], 'is_iceberg': prediction.reshape((prediction.shape[0]))})\n",
    "submission.to_csv(\"submission9.csv\", index=False)\n",
    "\n",
    "#create downloadable submission file to upload\n",
    "submission_filename = 'submission9.csv'\n",
    "\n",
    "from IPython.display import FileLink\n",
    "FileLink(submission_filename)"
   ]
  },
  {
   "cell_type": "code",
   "execution_count": null,
   "metadata": {
    "collapsed": true
   },
   "outputs": [],
   "source": []
  }
 ],
 "metadata": {
  "kernelspec": {
   "display_name": "Python [default]",
   "language": "python",
   "name": "python2"
  },
  "language_info": {
   "codemirror_mode": {
    "name": "ipython",
    "version": 2
   },
   "file_extension": ".py",
   "mimetype": "text/x-python",
   "name": "python",
   "nbconvert_exporter": "python",
   "pygments_lexer": "ipython2",
   "version": "2.7.13"
  }
 },
 "nbformat": 4,
 "nbformat_minor": 2
}
